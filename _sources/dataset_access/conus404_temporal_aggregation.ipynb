{
 "cells": [
  {
   "cell_type": "markdown",
   "id": "3a3edc9f-3c66-4e03-8c75-b147f15b2e50",
   "metadata": {},
   "source": [
    "# CONUS404 Temporal Aggregation\n",
    "Create daily averages from hourly data, write to a zarr dataset\n"
   ]
  },
  {
   "cell_type": "code",
   "execution_count": null,
   "id": "547b851f-3dd9-4b9f-988b-54c743a43bbe",
   "metadata": {},
   "outputs": [],
   "source": [
    "import fsspec\n",
    "import xarray as xr\n",
    "import hvplot.xarray\n",
    "import intake\n",
    "import os\n",
    "import warnings\n",
    "from dask.distributed import LocalCluster, Client\n",
    "warnings.filterwarnings('ignore')"
   ]
  },
  {
   "cell_type": "markdown",
   "id": "57354df2-6786-4d1d-859e-1d5099cb85b9",
   "metadata": {},
   "source": [
    "#### Open dataset from Intake Catalog\n",
    "* Automatically select on-prem dataset from /caldera if running on prem (Denali/Tallgrass)\n",
    "* Automatically select cloud data on S3 if not running on prem \n",
    "\n",
    "To test whether we are on-prem, we see if SLURM_CLUSTER_NAME is defined.  If SLURM_CLUSTER_NAME is not defined, the user is either not on Denali/Tallgrass on the main node, which they should not be on"
   ]
  },
  {
   "cell_type": "code",
   "execution_count": null,
   "id": "59cbaa2a-f2a3-4e45-997f-d13cec37d213",
   "metadata": {},
   "outputs": [],
   "source": [
    "url = 'https://raw.githubusercontent.com/hytest-org/hytest/main/dataset_catalog/hytest_intake_catalog.yml'"
   ]
  },
  {
   "cell_type": "code",
   "execution_count": null,
   "id": "c6d6c625-b5d7-4a17-ae2d-d7c2e8bc3fa6",
   "metadata": {},
   "outputs": [],
   "source": [
    "# open the hytest data intake catalog\n",
    "hytest_cat = intake.open_catalog(url)\n",
    "list(hytest_cat)"
   ]
  },
  {
   "cell_type": "code",
   "execution_count": null,
   "id": "2faf85aa",
   "metadata": {},
   "outputs": [],
   "source": [
    "# open the conus404 sub-catalog\n",
    "cat = hytest_cat['conus404-catalog']\n",
    "list(cat)"
   ]
  },
  {
   "cell_type": "markdown",
   "id": "ecef85f6-01e4-4d84-9cce-0bf409b30637",
   "metadata": {},
   "source": [
    "#### Start as Dask client using an appropriate Dask Cluster\n",
    "This is an optional step, but can speed up data loading significantly, especially when accessing data from the Cloud"
   ]
  },
  {
   "cell_type": "code",
   "execution_count": null,
   "id": "7b53296c-839b-4bc2-a5f5-d9b9ad146391",
   "metadata": {
    "tags": []
   },
   "outputs": [],
   "source": [
    "def configure_cluster(machine):\n",
    "    ''' Helper function to configure cluster\n",
    "    '''\n",
    "    if machine == 'denali':\n",
    "        from dask.distributed import LocalCluster, Client\n",
    "        cluster = LocalCluster(threads_per_worker=1)\n",
    "        client = Client(cluster)\n",
    "    \n",
    "    elif machine == 'tallgrass':\n",
    "        from dask.distributed import Client\n",
    "        from dask_jobqueue import SLURMCluster\n",
    "        cluster = SLURMCluster(queue='cpu', cores=1, \n",
    "                               walltime=\"01:00:00\", account=\"woodshole\",\n",
    "                               interface='ib0', memory='6GB')\n",
    "        cluster.adapt(maximum=10)\n",
    "        client = Client(cluster)\n",
    "        \n",
    "    elif machine == 'local':\n",
    "        import os\n",
    "        import warnings\n",
    "        warnings.warn(\"Running locally can result in costly data transfers!\\n\")\n",
    "        n_cores = os.cpu_count() # set to match your machine\n",
    "        cluster = LocalCluster(threads_per_worker=n_cores)\n",
    "        client = Client(cluster)\n",
    "        \n",
    "    elif machine in ['esip-qhub-gateway-v0.4']:   \n",
    "        import sys, os\n",
    "        sys.path.append(os.path.join(os.environ['HOME'],'shared','users','lib'))\n",
    "        import ebdpy as ebd\n",
    "        aws_profile = 'esip-qhub'\n",
    "        aws_region = 'us-west-2'\n",
    "        endpoint = f's3.{aws_region}.amazonaws.com'\n",
    "        ebd.set_credentials(profile=aws_profile, region=aws_region, endpoint=endpoint)\n",
    "        worker_max = 10\n",
    "        client,cluster = ebd.start_dask_cluster(profile=aws_profile, worker_max=worker_max, \n",
    "                                              region=aws_region, use_existing_cluster=True,\n",
    "                                              adaptive_scaling=False, wait_for_cluster=False, \n",
    "                                              worker_profile='Medium Worker', propagate_env=True)\n",
    "        \n",
    "    return client, cluster"
   ]
  },
  {
   "cell_type": "code",
   "execution_count": null,
   "id": "bceea39d-78e2-4480-aaf3-0ead09b7e09a",
   "metadata": {},
   "outputs": [],
   "source": [
    "if 'SLURM_CLUSTER_NAME' in os.environ:\n",
    "    dataset = 'conus404-hourly-onprem'\n",
    "    machine = os.environ['SLURM_CLUSTER_NAME']\n",
    "    client, cluster = configure_cluster(machine)\n",
    "else:\n",
    "    dataset = 'conus404-hourly-cloud'\n",
    "    machine = 'esip-qhub-gateway-v0.4'\n",
    "    client, cluster = configure_cluster(machine)"
   ]
  },
  {
   "cell_type": "code",
   "execution_count": null,
   "id": "2bd3316b-6e51-4fae-b536-2f5fdbacfd81",
   "metadata": {},
   "outputs": [],
   "source": [
    "ds = cat[dataset].to_dask()"
   ]
  },
  {
   "cell_type": "code",
   "execution_count": null,
   "id": "0cdef426-5db7-4158-87da-8b8b8e739418",
   "metadata": {},
   "outputs": [],
   "source": [
    "ds"
   ]
  },
  {
   "cell_type": "code",
   "execution_count": null,
   "id": "d3b2ce8a-6499-4413-861c-65d48f7af108",
   "metadata": {},
   "outputs": [],
   "source": [
    "ds.SNOW"
   ]
  },
  {
   "cell_type": "markdown",
   "id": "7f757500-de8a-4827-aa30-9e26508470aa",
   "metadata": {},
   "source": [
    "### Daily averages\n",
    "Time averages of any type are easy to do with xarray.   Here we do 24 hour averages, and set the time offset to 12 hours, so that the time values are in the middle of the averaging period.   \n",
    "\n",
    "Digital Earth Africa has a great [Working with Time in Xarray](https://docs.digitalearthafrica.org/fr/latest/sandbox/notebooks/Frequently_used_code/Working_with_time.html) tutorial."
   ]
  },
  {
   "cell_type": "markdown",
   "id": "c945ae5c-1a3e-4f76-a1f7-20c91255e186",
   "metadata": {},
   "source": [
    "In the example below we just do a few days with a few variables as a quick demo.   "
   ]
  },
  {
   "cell_type": "code",
   "execution_count": null,
   "id": "44b9850d-6ec0-4fff-bbef-a079e8272d91",
   "metadata": {},
   "outputs": [],
   "source": [
    "%%time\n",
    "ds_subset = ds[['T2','U10']].sel(time=slice('2017-01-02','2017-01-13'))"
   ]
  },
  {
   "cell_type": "code",
   "execution_count": null,
   "id": "b27933fc-cda0-4048-b627-cc190d15dc4e",
   "metadata": {},
   "outputs": [],
   "source": [
    "ds_subset_daily = ds_subset.resample(time=\"24H\", loffset=\"12H\").mean()"
   ]
  },
  {
   "cell_type": "code",
   "execution_count": null,
   "id": "b5e7fdc3-7a88-4e6f-a967-3c8caee6b3eb",
   "metadata": {
    "tags": []
   },
   "outputs": [],
   "source": [
    "ds_subset_daily"
   ]
  },
  {
   "cell_type": "code",
   "execution_count": null,
   "id": "9e39a18c-9740-4eb5-8239-4a083fc86f9d",
   "metadata": {
    "tags": []
   },
   "outputs": [],
   "source": [
    "ds_subset_daily.hvplot.quadmesh(x='lon', y='lat', rasterize=True, \n",
    "                             geo=True, tiles='OSM', alpha=0.7, cmap='turbo')"
   ]
  },
  {
   "cell_type": "markdown",
   "id": "57bfd0d9-361e-4533-adb4-cf6abbbf09eb",
   "metadata": {},
   "source": [
    "#### Write daily values as a Zarr dataset (to onprem or cloud)"
   ]
  },
  {
   "cell_type": "code",
   "execution_count": null,
   "id": "479432f5-3bfc-4600-842e-722e55b99a96",
   "metadata": {},
   "outputs": [],
   "source": [
    "%%time\n",
    "if 'SLURM_CLUSTER_NAME' in os.environ:     # on prem (Caldera filesystem)\n",
    "    ds_subset_daily.to_zarr('/caldera/usgs/change-me/conus_subset_daily.zarr', mode='w', consolidated=True)\n",
    "else:                                      # cloud (AWS S3 nhgf-development bucket)\n",
    "    fs_s3 = fsspec.filesystem('s3', anon=False)\n",
    "    ds_subset_daily.to_zarr(fs_s3.get_mapper('s3://esip-qhub/testing/conus_subset_daily.zarr'), mode='w', consolidated=True)"
   ]
  },
  {
   "cell_type": "markdown",
   "id": "9230a094-4dcd-4552-852e-be62cb29e15d",
   "metadata": {},
   "source": [
    "#### Shutdown cluster"
   ]
  },
  {
   "cell_type": "code",
   "execution_count": null,
   "id": "c3aff08b-975d-47e1-ac51-6bb8e8b1adbc",
   "metadata": {},
   "outputs": [],
   "source": [
    "cluster.shutdown()"
   ]
  }
 ],
 "metadata": {
  "kernelspec": {
   "display_name": "Python 3 (ipykernel)",
   "language": "python",
   "name": "python3"
  },
  "language_info": {
   "codemirror_mode": {
    "name": "ipython",
    "version": 3
   },
   "file_extension": ".py",
   "mimetype": "text/x-python",
   "name": "python",
   "nbconvert_exporter": "python",
   "pygments_lexer": "ipython3",
   "version": "3.10.8"
  },
  "vscode": {
   "interpreter": {
    "hash": "85ce4eb777a47250062e69db63a13ea88790b42e9bccd9f9c9a4eb5ac7d53107"
   }
  },
  "widgets": {
   "application/vnd.jupyter.widget-state+json": {
    "state": {},
    "version_major": 2,
    "version_minor": 0
   }
  }
 },
 "nbformat": 4,
 "nbformat_minor": 5
}
